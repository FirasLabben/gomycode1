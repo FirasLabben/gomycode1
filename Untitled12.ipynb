{
 "cells": [
  {
   "cell_type": "code",
   "execution_count": 8,
   "id": "6bc7fe67",
   "metadata": {},
   "outputs": [
    {
     "name": "stdout",
     "output_type": "stream",
     "text": [
      "put student number2\n",
      "put subject name2\n",
      "[[0. 0.]\n",
      " [0. 0.]]\n"
     ]
    }
   ],
   "source": [
    "import numpy as np\n",
    "student_number=int(input(\"put student number\"))\n",
    "subject_number=int(input(\"put subject name\"))\n",
    "mark=np.zeros((student_number,subject_number))\n",
    "print(mark)"
   ]
  },
  {
   "cell_type": "code",
   "execution_count": 15,
   "id": "212f3e15",
   "metadata": {
    "scrolled": true
   },
   "outputs": [
    {
     "name": "stdout",
     "output_type": "stream",
     "text": [
      "student nb 1\n",
      "donner note 14\n",
      "donner note 16\n",
      "student nb 2\n",
      "donner note 13\n",
      "donner note 19\n",
      "[[14. 16.]\n",
      " [13. 19.]]\n"
     ]
    }
   ],
   "source": [
    "for i in range(student_number):\n",
    "    print('student nb',i+1)\n",
    "    for j in range(subject_number):\n",
    "        note = int(input('donner note '))\n",
    "        mark[i,j] = note\n",
    "print(mark)\n",
    "def compute_reciprocals(mark):\n",
    "    output = np.empty(len(mark))\n",
    "    for i in range(len(mark)):\n",
    "        output[i] =1.0 / mark[i]"
   ]
  },
  {
   "cell_type": "code",
   "execution_count": null,
   "id": "60da5b5b",
   "metadata": {},
   "outputs": [],
   "source": []
  },
  {
   "cell_type": "code",
   "execution_count": null,
   "id": "c51875cc",
   "metadata": {},
   "outputs": [],
   "source": []
  }
 ],
 "metadata": {
  "kernelspec": {
   "display_name": "Python 3 (ipykernel)",
   "language": "python",
   "name": "python3"
  },
  "language_info": {
   "codemirror_mode": {
    "name": "ipython",
    "version": 3
   },
   "file_extension": ".py",
   "mimetype": "text/x-python",
   "name": "python",
   "nbconvert_exporter": "python",
   "pygments_lexer": "ipython3",
   "version": "3.11.4"
  }
 },
 "nbformat": 4,
 "nbformat_minor": 5
}
