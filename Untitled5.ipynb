{
 "cells": [
  {
   "cell_type": "code",
   "execution_count": 6,
   "id": "95ed9cee",
   "metadata": {},
   "outputs": [
    {
     "name": "stdout",
     "output_type": "stream",
     "text": [
      "135\n"
     ]
    }
   ],
   "source": [
    "number=[3,9,5]\n",
    "result=1\n",
    "for i in range(0,len(number)):\n",
    "    result=result*number[i]\n",
    "print(result)  \n",
    "\n",
    "    \n"
   ]
  },
  {
   "cell_type": "code",
   "execution_count": 11,
   "id": "1e66a55b",
   "metadata": {},
   "outputs": [
    {
     "name": "stdout",
     "output_type": "stream",
     "text": [
      "[(4, 4), (2, 5), (2, 3), (2, 1), (1, 2)]\n"
     ]
    }
   ],
   "source": [
    "fish=[(4,4),(2,1),(2,3),(2,5),(1,2)]\n",
    "fish.sort(reverse=True)\n",
    "print(fish)"
   ]
  },
  {
   "cell_type": "code",
   "execution_count": 16,
   "id": "217d2569",
   "metadata": {},
   "outputs": [
    {
     "name": "stdout",
     "output_type": "stream",
     "text": [
      "{'a': 400, 'b': 400, 'c': 300, 'd': 400}\n"
     ]
    }
   ],
   "source": [
    "d1={'a':100,'b':200,'c':300}\n",
    "d2={'a':300,'b':200,'d':400}\n",
    "d3={}\n",
    "d3['a']=d1['a']+d2['a']\n",
    "d3['b']=d1['b']+d2['b']\n",
    "d3['c']=d1['c']\n",
    "d3['d']=d2['d']\n",
    "print(d3)\n"
   ]
  },
  {
   "cell_type": "code",
   "execution_count": null,
   "id": "d1055788",
   "metadata": {},
   "outputs": [],
   "source": []
  },
  {
   "cell_type": "code",
   "execution_count": 20,
   "id": "6a0696d6",
   "metadata": {},
   "outputs": [
    {
     "name": "stdout",
     "output_type": "stream",
     "text": [
      "[('item1', '12.20'), ('item2', '15.10'), ('item3', '24.5')]\n"
     ]
    }
   ],
   "source": [
    "group=[('item1','12.20'),('item2','15.10'),('item3','24.5')]\n",
    "group.sort()\n",
    "print(group)"
   ]
  },
  {
   "cell_type": "code",
   "execution_count": null,
   "id": "7c9a2c0d",
   "metadata": {},
   "outputs": [],
   "source": []
  }
 ],
 "metadata": {
  "kernelspec": {
   "display_name": "Python 3 (ipykernel)",
   "language": "python",
   "name": "python3"
  },
  "language_info": {
   "codemirror_mode": {
    "name": "ipython",
    "version": 3
   },
   "file_extension": ".py",
   "mimetype": "text/x-python",
   "name": "python",
   "nbconvert_exporter": "python",
   "pygments_lexer": "ipython3",
   "version": "3.11.4"
  }
 },
 "nbformat": 4,
 "nbformat_minor": 5
}
