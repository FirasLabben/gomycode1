{
 "cells": [
  {
   "cell_type": "code",
   "execution_count": null,
   "id": "a95d10dc",
   "metadata": {
    "scrolled": true
   },
   "outputs": [],
   "source": [
    "number=input('enter your guess')\n",
    "number=int(number)  \n",
    "import random\n",
    "x=random.randint(1,100)\n",
    "\n",
    "while x !=number:\n",
    "    if number>x:\n",
    "        print('too hight')\n",
    "    elif number<x:\n",
    "        print('too low')\n",
    "        \n",
    "    \n",
    "    \n",
    "    number= input('enter your guess')\n",
    "    number= int(number)\n",
    "print('correct')    "
   ]
  },
  {
   "cell_type": "code",
   "execution_count": null,
   "id": "175842eb",
   "metadata": {},
   "outputs": [],
   "source": []
  },
  {
   "cell_type": "code",
   "execution_count": null,
   "id": "5bf804a6",
   "metadata": {},
   "outputs": [],
   "source": []
  }
 ],
 "metadata": {
  "kernelspec": {
   "display_name": "Python 3 (ipykernel)",
   "language": "python",
   "name": "python3"
  },
  "language_info": {
   "codemirror_mode": {
    "name": "ipython",
    "version": 3
   },
   "file_extension": ".py",
   "mimetype": "text/x-python",
   "name": "python",
   "nbconvert_exporter": "python",
   "pygments_lexer": "ipython3",
   "version": "3.11.4"
  }
 },
 "nbformat": 4,
 "nbformat_minor": 5
}
