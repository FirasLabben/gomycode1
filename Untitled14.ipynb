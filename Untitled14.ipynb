{
 "cells": [
  {
   "cell_type": "code",
   "execution_count": 3,
   "id": "00ced00c",
   "metadata": {},
   "outputs": [
    {
     "ename": "SyntaxError",
     "evalue": "invalid syntax (2322494709.py, line 7)",
     "output_type": "error",
     "traceback": [
      "\u001b[1;36m  Cell \u001b[1;32mIn[3], line 7\u001b[1;36m\u001b[0m\n\u001b[1;33m    lists =u_i split()\u001b[0m\n\u001b[1;37m               ^\u001b[0m\n\u001b[1;31mSyntaxError\u001b[0m\u001b[1;31m:\u001b[0m invalid syntax\n"
     ]
    }
   ],
   "source": [
    "import request\n",
    "import string\n",
    "from bs4 import BeautifulSoup\n",
    "\n",
    "Enter_input=input(\"Search: \")\n",
    "u_i=string.capwords(Enter_input)\n",
    "lists =u_i split()\n",
    "word=\"_\".join(lists)\n",
    "\n",
    "url=\"https://en.wikipedia.org/wiki/\"+word\n",
    "\n",
    "def wikibot(url):\n",
    "    url_open =requests.get(url)\n",
    "    soup=BeautifulSoup(url_open.content,\"html.parser\")\n",
    "    details = soup(\"table\",{\"class\":\"infobox\"})\n",
    "    for i in details:\n",
    "        h =i.find_all(\"tr\")\n",
    "        for j in h:\n",
    "            hrading = j.find_all(\"th\")\n",
    "            detail = j.find_all(\"td\")\n",
    "            if heading is not None and detail is not None:\n",
    "                for x,yin zip(heading,detail):\n",
    "                    print(\"{}  ::  {}\">format(x.text,y.text))\n",
    "                \n",
    "            "
   ]
  },
  {
   "cell_type": "code",
   "execution_count": null,
   "id": "5fbba270",
   "metadata": {},
   "outputs": [],
   "source": []
  },
  {
   "cell_type": "code",
   "execution_count": null,
   "id": "0d5565c2",
   "metadata": {},
   "outputs": [],
   "source": []
  }
 ],
 "metadata": {
  "kernelspec": {
   "display_name": "Python 3 (ipykernel)",
   "language": "python",
   "name": "python3"
  },
  "language_info": {
   "codemirror_mode": {
    "name": "ipython",
    "version": 3
   },
   "file_extension": ".py",
   "mimetype": "text/x-python",
   "name": "python",
   "nbconvert_exporter": "python",
   "pygments_lexer": "ipython3",
   "version": "3.11.4"
  }
 },
 "nbformat": 4,
 "nbformat_minor": 5
}
